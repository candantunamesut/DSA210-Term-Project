{
  "nbformat": 4,
  "nbformat_minor": 0,
  "metadata": {
    "colab": {
      "provenance": [],
      "authorship_tag": "ABX9TyNhVFn3PomXGBZIFJjSfTak"
    },
    "kernelspec": {
      "name": "python3",
      "display_name": "Python 3"
    },
    "language_info": {
      "name": "python"
    }
  },
  "cells": [
    {
      "cell_type": "code",
      "execution_count": null,
      "metadata": {
        "id": "XbTbPIuMqloH"
      },
      "outputs": [],
      "source": [
        "from google.colab import drive\n",
        "drive.mount('/content/drive')"
      ]
    },
    {
      "cell_type": "code",
      "source": [
        "import pandas as pd\n",
        "import numpy as np\n",
        "import seaborn as sns\n",
        "import matplotlib.pyplot as plt\n",
        "\n",
        "file_path = '/content/drive/MyDrive/DSA2025Spring/rotten_tomatoes_movies.csv'\n",
        "df = pd.read_csv(file_path)\n",
        "df.head()\n",
        "\n",
        "#Clean and organize necessary columns of the dataset according to the needs of the project\n",
        "columns_to_keep = ['title', 'audienceScore', 'tomatoMeter', 'releaseDateTheaters', 'releaseDateStreaming', 'genre', 'boxOffice']\n",
        "df = df[columns_to_keep]\n",
        "df = df.drop_duplicates(subset='title')\n",
        "df = df.dropna(subset=['audienceScore', 'tomatoMeter'])\n",
        "\n",
        "def boxOfficeConvert(boxOffice): #Convert rows of box office column into float values\n",
        "  if pd.isna(boxOffice):\n",
        "    return np.nan\n",
        "  boxOffice = boxOffice.replace('$', '')\n",
        "  if 'M' in boxOffice:\n",
        "    return float(boxOffice.replace('M', ''))*1000000\n",
        "  elif 'K' in boxOffice:\n",
        "      return float(boxOffice.replace('K', ''))*1000\n",
        "  else:\n",
        "      return float(boxOffice)\n",
        "df['boxOffice'] = df['boxOffice'].apply(boxOfficeConvert)\n",
        "\n",
        "#Clean box office data from misleading or missing data:\n",
        "#clearing movies with revenue below $1k dollars: meaning recognition from audience or critics is not to supply meaningful data\n",
        "def boxOfficeClean(boxOffice):\n",
        "  if boxOffice < 1000:\n",
        "    return np.nan\n",
        "  else:\n",
        "    return boxOffice\n",
        "df['boxOffice'] = df['boxOffice'].apply(boxOfficeClean)\n",
        "df = df.dropna(subset=['boxOffice'])\n",
        "\n",
        "#Heatmap to compare correlation:\n",
        "correlation = df[['audienceScore','tomatoMeter','boxOffice']].corr()\n",
        "plt.figure(figsize=(6,5))\n",
        "sns.heatmap(correlation, annot=True, cmap='coolwarm', fmt=\".2f\")\n",
        "plt.title('Correlation Heatmap for Box Office - Audience & Critic Scores ')\n",
        "plt.savefig('/content/drive/MyDrive/DSA2025Spring/ScoreVsBoxOfficeResults/heatmap_correlation_boxoffice.png')\n",
        "plt.close()\n",
        "\n",
        "#Scatterplot\n",
        "sns.regplot(x='audienceScore', y='boxOffice', data=df)\n",
        "plt.title('Audience Score vs Box Office Revenue')\n",
        "plt.savefig('/content/drive/MyDrive/DSA2025Spring/ScoreVsBoxOfficeResults/plot_audience_boxoffice.png')\n",
        "plt.close()\n",
        "\n",
        "sns.regplot(x='tomatoMeter', y='boxOffice', data=df)\n",
        "plt.title('Critic Score vs Box Office Revenue')\n",
        "plt.savefig('/content/drive/MyDrive/DSA2025Spring/ScoreVsBoxOfficeResults/plot_critic_boxoffice.png')\n",
        "plt.close()\n",
        "\n",
        "correlation.to_csv('/content/drive/MyDrive/DSA2025Spring/ScoreVsBoxOfficeResults/correlation_results.csv')\n",
        "\n",
        "#Hypothesis Testing\n",
        "def pvalueTest(pValue):\n",
        "  if pValue < 0.05:\n",
        "    print(\"P value is less than 0.05. The null hypothesis is rejected. There is a significant relationship between the values.\")\n",
        "  else:\n",
        "    print(\"P value is more than or equal to 0.05. The null hypothesis cannot be rejected. There is no significant relationship between the values.\")\n",
        "\n",
        "#Pearson Correlation to compare the correlation between critic score & box office revenue to the one between audience score & box office revenue\n",
        "import scipy.stats as stats\n",
        "rCritic, pValueCritic = stats.pearsonr(df['tomatoMeter'], df['boxOffice'])\n",
        "print(\"Correlation between Critic Score and Box Office Revenue:\", rCritic)\n",
        "print(\"P-value:\", pValueCritic)\n",
        "pvalueTest(pValueCritic)\n",
        "\n",
        "rAudience, pValueAudience = stats.pearsonr(df['audienceScore'], df['boxOffice'])\n",
        "print(\"Correlation between Audience Score and Box Office Revenue:\", rAudience)\n",
        "print(\"P-value:\", pValueAudience)\n",
        "pvalueTest(pValueAudience)"
      ],
      "metadata": {
        "id": "PJZvZ79xqmqD"
      },
      "execution_count": null,
      "outputs": []
    }
  ]
}