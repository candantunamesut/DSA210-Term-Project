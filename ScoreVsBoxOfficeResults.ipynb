{
  "nbformat": 4,
  "nbformat_minor": 0,
  "metadata": {
    "colab": {
      "provenance": [],
      "authorship_tag": "ABX9TyMeo3eKb2Zm5BJrYtv0BMIA"
    },
    "kernelspec": {
      "name": "python3",
      "display_name": "Python 3"
    },
    "language_info": {
      "name": "python"
    }
  },
  "cells": [
    {
      "cell_type": "code",
      "execution_count": 1,
      "metadata": {
        "id": "XbTbPIuMqloH",
        "colab": {
          "base_uri": "https://localhost:8080/"
        },
        "outputId": "26654864-b504-4da4-8f1e-4c47ae8f620d"
      },
      "outputs": [
        {
          "output_type": "stream",
          "name": "stdout",
          "text": [
            "Mounted at /content/drive\n"
          ]
        }
      ],
      "source": [
        "from google.colab import drive\n",
        "drive.mount('/content/drive')"
      ]
    },
    {
      "cell_type": "code",
      "source": [
        "import pandas as pd\n",
        "import numpy as np\n",
        "import seaborn as sns\n",
        "import matplotlib.pyplot as plt\n",
        "\n",
        "file_path = '/content/drive/MyDrive/DSA2025Spring/rotten_tomatoes_movies.csv'\n",
        "df = pd.read_csv(file_path)\n",
        "df.head()\n",
        "print(\"Size of dataset (unfiltered):\", len(df))\n",
        "\n",
        "#Clean and organize necessary columns of the dataset according to the needs of the project\n",
        "columns_to_keep = ['title', 'audienceScore', 'tomatoMeter', 'releaseDateTheaters', 'releaseDateStreaming', 'genre', 'boxOffice']\n",
        "df = df[columns_to_keep]\n",
        "df = df.drop_duplicates(subset='title')\n",
        "df['tomatoMeter'] = df['tomatoMeter'].fillna(df['tomatoMeter'].mean())\n",
        "df['audienceScore'] = df['audienceScore'].fillna(df['audienceScore'].mean())\n",
        "df = df.dropna(subset=['boxOffice'])\n",
        "\n",
        "print(\"Size of dataset after removing rows without box office value:\", len(df))\n",
        "\n",
        "#Convert rows of box office column into float values\n",
        "def boxOfficeConvert(boxOffice):\n",
        "  if pd.isna(boxOffice):\n",
        "    return np.nan\n",
        "  boxOffice = boxOffice.replace('$', '')\n",
        "  if 'M' in boxOffice:\n",
        "    return float(boxOffice.replace('M', ''))*1000000\n",
        "  elif 'K' in boxOffice:\n",
        "      return float(boxOffice.replace('K', ''))*1000\n",
        "  else:\n",
        "      return float(boxOffice)\n",
        "df['boxOffice'] = df['boxOffice'].apply(boxOfficeConvert)\n",
        "\n",
        "print(\"Size of dataset before removing outliers (in rows):\", len(df))\n",
        "#Cleaning the dataset by removing outliers - by removing values outside the 25-75 quantile range (interquantile method)\n",
        "quantile1 = df['boxOffice'].quantile(0.25)\n",
        "quantile3 = df['boxOffice'].quantile(0.75)\n",
        "iqr = quantile3 - quantile1\n",
        "\n",
        "lowerBound = quantile1 - (1.5 * iqr)\n",
        "upperBound = quantile3 + (1.5 * iqr)\n",
        "\n",
        "df = df[(df['boxOffice'] >= lowerBound) & (df['boxOffice'] <= upperBound)]\n",
        "\n",
        "print(\"Size of dataset after removing outliers (in rows):\", len(df))"
      ],
      "metadata": {
        "id": "PJZvZ79xqmqD",
        "colab": {
          "base_uri": "https://localhost:8080/"
        },
        "outputId": "c124412b-6a5c-49f8-de9c-0d28424c35bc"
      },
      "execution_count": 53,
      "outputs": [
        {
          "output_type": "stream",
          "name": "stdout",
          "text": [
            "Size of dataset (unfiltered): 143258\n",
            "Size of dataset after removing rows without box office value: 12528\n",
            "Size of dataset before removing outliers (in rows): 12528\n",
            "Size of dataset after removing outliers (in rows): 10626\n"
          ]
        }
      ]
    },
    {
      "cell_type": "code",
      "source": [
        "#Heatmap to compare correlation:\n",
        "correlation = df[['audienceScore','tomatoMeter','boxOffice']].corr()\n",
        "plt.figure(figsize=(6,5))\n",
        "sns.heatmap(correlation, annot=True, cmap='coolwarm', fmt=\".2f\")\n",
        "plt.title('Correlation Heatmap for Box Office - Audience & Critic Scores ')\n",
        "plt.savefig('/content/drive/MyDrive/DSA2025Spring/ScoreVsBoxOfficeResults/heatmap_correlation_boxoffice.png')\n",
        "plt.close()\n",
        "\n",
        "#Regression plots\n",
        "plt.figure(figsize=(16,14))\n",
        "sns.regplot(x='audienceScore', y='boxOffice', data=df, line_kws={'color': 'red'}, scatter_kws={'color':'#71b3ee','alpha': 0.5})\n",
        "plt.title('Audience Score vs Box Office Revenue')\n",
        "plt.savefig('/content/drive/MyDrive/DSA2025Spring/ScoreVsBoxOfficeResults/plot_audience_boxoffice.png')\n",
        "plt.close()\n",
        "\n",
        "plt.figure(figsize=(16,14))\n",
        "sns.regplot(x='tomatoMeter', y='boxOffice', data=df, line_kws={'color': 'red'}, scatter_kws={'color':'#5d9978','alpha': 0.5})\n",
        "plt.title('Critic Score vs Box Office Revenue')\n",
        "plt.savefig('/content/drive/MyDrive/DSA2025Spring/ScoreVsBoxOfficeResults/plot_critic_boxoffice.png')\n",
        "plt.close()\n",
        "\n",
        "correlation.to_csv('/content/drive/MyDrive/DSA2025Spring/ScoreVsBoxOfficeResults/correlation_results.csv')\n",
        "\n",
        "#Hypothesis Testing\n",
        "def pvalueTest(pValue):\n",
        "  if pValue < 0.05:\n",
        "    print(\"P value is less than 0.05. The null hypothesis is rejected. There is a significant relationship between the values.\")\n",
        "  else:\n",
        "    print(\"P value is more than or equal to 0.05. The null hypothesis cannot be rejected. There is no significant relationship between the values.\")\n",
        "\n",
        "#Pearson Correlation to compare the correlation between critic score & box office revenue to the one between audience score & box office revenue\n",
        "import scipy.stats as stats\n",
        "rCritic, pValueCritic = stats.pearsonr(df['tomatoMeter'], df['boxOffice'])\n",
        "print(\"Correlation between Critic Score and Box Office Revenue:\", rCritic)\n",
        "print(\"P-value:\", pValueCritic)\n",
        "pvalueTest(pValueCritic)\n",
        "\n",
        "rAudience, pValueAudience = stats.pearsonr(df['audienceScore'], df['boxOffice'])\n",
        "print(\"Correlation between Audience Score and Box Office Revenue:\", rAudience)\n",
        "print(\"P-value:\", pValueAudience)\n",
        "pvalueTest(pValueAudience)"
      ],
      "metadata": {
        "colab": {
          "base_uri": "https://localhost:8080/"
        },
        "id": "K89HyWznRVdm",
        "outputId": "4b4b8c6c-200f-4410-bf76-6f52e35aa2b8"
      },
      "execution_count": 43,
      "outputs": [
        {
          "output_type": "stream",
          "name": "stdout",
          "text": [
            "Correlation between Critic Score and Box Office Revenue: -0.24415258620083363\n",
            "P-value: 5.145165271420907e-144\n",
            "P value is less than 0.05. The null hypothesis is rejected. There is a significant relationship between the values.\n",
            "Correlation between Audience Score and Box Office Revenue: -0.0901669691353097\n",
            "P-value: 1.248400337443627e-20\n",
            "P value is less than 0.05. The null hypothesis is rejected. There is a significant relationship between the values.\n"
          ]
        }
      ]
    }
  ]
}