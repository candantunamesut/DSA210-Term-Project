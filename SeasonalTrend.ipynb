{
  "nbformat": 4,
  "nbformat_minor": 0,
  "metadata": {
    "colab": {
      "provenance": [],
      "gpuType": "V28",
      "authorship_tag": "ABX9TyOfQ8BvGFv1O5qrH0xtEKlS"
    },
    "kernelspec": {
      "name": "python3",
      "display_name": "Python 3"
    },
    "language_info": {
      "name": "python"
    },
    "accelerator": "TPU"
  },
  "cells": [
    {
      "cell_type": "code",
      "source": [
        "from google.colab import drive\n",
        "drive.mount('/content/drive')"
      ],
      "metadata": {
        "colab": {
          "base_uri": "https://localhost:8080/"
        },
        "id": "WllaCmvFo-c3",
        "outputId": "a42f8add-c14b-4723-fe6f-4bb71c174766"
      },
      "execution_count": 1,
      "outputs": [
        {
          "output_type": "stream",
          "name": "stdout",
          "text": [
            "Mounted at /content/drive\n"
          ]
        }
      ]
    },
    {
      "cell_type": "code",
      "source": [
        "import pandas as pd\n",
        "import numpy as np\n",
        "import seaborn as sns\n",
        "import matplotlib.pyplot as plt\n",
        "!pip install pytrends\n",
        "import time\n",
        "from scipy.stats import f_oneway\n",
        "from pytrends.request import TrendReq\n",
        "\n",
        "file_path = '/content/drive/MyDrive/DSA2025Spring/rotten_tomatoes_movies.csv'\n",
        "df = pd.read_csv(file_path)\n",
        "df.head()\n",
        "columns_to_keep = ['title', 'audienceScore', 'tomatoMeter', 'releaseDateTheaters', 'releaseDateStreaming', 'genre', 'boxOffice']\n",
        "df = df[columns_to_keep]\n",
        "df = df.drop_duplicates(subset='title')\n",
        "df = df.dropna(subset=['audienceScore', 'tomatoMeter'])\n",
        "pytrends = TrendReq()\n",
        "timeFrame = '2024-01-01 2025-01-01'"
      ],
      "metadata": {
        "id": "Bi3GewIlFPPn"
      },
      "execution_count": null,
      "outputs": []
    },
    {
      "cell_type": "code",
      "source": [
        "#Clean up and create a list only containing unique genres from the Rotten Tomatoes movies dataset\n",
        "df = df.dropna(subset=['genre'])\n",
        "genreList = df['genre'].str.split(',').explode()\n",
        "genreList = genreList.str.strip().unique()\n",
        "cleanedGenreList = []\n",
        "for genre in genreList: #clean the list of NaN values\n",
        "    if type(genre) == str:\n",
        "        cleanedGenreList.append(genre)\n",
        "genreList = cleanedGenreList\n",
        "print(\"List of Genres:\" + str(genreList))\n",
        "\n",
        "def cleanGenreName(genre):\n",
        "  genre = genre.lower()\n",
        "  genre = genre.replace('+', '')\n",
        "  genre = genre.replace('&', '')\n",
        "  genre = genre.replace('sci-fi', 'science fiction')\n",
        "  genre = genre.replace('-','')\n",
        "  return genre\n",
        "\n",
        "def pyTrendsGenre(genre):\n",
        "  genre = cleanGenreName(genre)\n",
        "  try:\n",
        "    pytrends.build_payload([genre + \" movies\"], timeframe=timeFrame)\n",
        "    interestForGenre = pytrends.interest_over_time()\n",
        "    if interestForGenre.empty: #Clean up row of movie with no trend data on Pytrends to improve accuracy\n",
        "      return None\n",
        "    interestForGenre['genre'] = genre\n",
        "    interestForGenre = interestForGenre.rename(columns={interestForGenre.columns[0]: 'value'})\n",
        "    return interestForGenre\n",
        "  except Exception as e:\n",
        "    time.sleep(60)\n",
        "    print(\"Error fetching data for \", str(genre))\n",
        "    return None\n",
        "\n",
        "trendData = []\n",
        "\n",
        "#a list for genres that Google Trends has failed to return requests for (429 error) -> retry requesting for these genres after list is done iterating\n",
        "failedGenres = []\n",
        "\n",
        "retry = 5\n",
        "waitTime = 40 #between retries\n",
        "\n",
        "for genre in genreList:\n",
        "  data = pyTrendsGenre(genre)\n",
        "  if data is not None:\n",
        "    trendData.append(data)\n",
        "    print(data)\n",
        "    time.sleep(60)\n",
        "  else:\n",
        "    failedGenres.append(genre)\n",
        "\n",
        "for i in range(retry):\n",
        "  genresFailedOnRetry = []\n",
        "  for genre in failedGenres:\n",
        "    data = pyTrendsGenre(genre)\n",
        "    if data is not None:\n",
        "      trendData.append(data)\n",
        "      print(data)\n",
        "    else:\n",
        "      genresFailedOnRetry.append(genre)\n",
        "  failedGenres = genresFailedOnRetry\n",
        "  if not failedGenres:\n",
        "    break\n",
        "  time.sleep(waitTime)\n",
        "\n",
        "if failedGenres:\n",
        "  print(\"Final failed genres after all retries:\", failedGenres)\n",
        "\n",
        "if trendData:\n",
        "  allData = pd.concat(trendData)\n",
        "  allData = allData.reset_index()\n",
        "  allData['date'] = pd.to_datetime(allData['date'])\n",
        "  allData['month'] = (allData['date'].dt.month)\n",
        "\n",
        "  def monthToSeason(month):\n",
        "    if month in [12, 1, 2]: #winter = 1\n",
        "      return 1\n",
        "    elif month in [3, 4, 5]: #spring = 2\n",
        "      return 2\n",
        "    elif month in [6, 7, 8]: #summer = 3\n",
        "      return 3\n",
        "    elif month in [9,10,11]: #autumn = 4\n",
        "      return 4\n",
        "\n",
        "  allData['season'] = allData['month'].apply(monthToSeason)\n",
        "  allData.to_csv('/content/drive/MyDrive/DSA2025Spring/SeasonalTrendResults/seasonalData.csv', index=False)\n",
        "\n",
        "  trend = allData.groupby(['genre', 'season']).size().reset_index(name='count')\n",
        "  print(trend)\n",
        "  trend.to_csv('/content/drive/MyDrive/DSA2025Spring/SeasonalTrendResults/seasonalTrend.csv', index=False)\n",
        "\n",
        "plt.figure(figsize=(10, 6))\n",
        "sns.barplot(x='season', y='count', hue='genre', data=trend)\n",
        "plt.title('Genre Trend Over Seasons')\n",
        "plt.xlabel('Season')\n",
        "plt.ylabel('Searches')\n",
        "plt.xticks([0, 1, 2, 3], ['Winter', 'Spring', 'Summer', 'Autumn'])\n",
        "plt.legend(bbox_to_anchor=(1.05, 1), loc='upper left')\n",
        "plt.tight_layout()\n",
        "plt.savefig('/content/drive/MyDrive/DSA2025Spring/SeasonalTrendResults/seasonalTrendBarPlot.png')\n",
        "plt.show()\n",
        "\n",
        "monthlyInterest = allData.groupby(['genre', 'month'])['value'].mean().reset_index()\n",
        "monthlyInterest.to_csv('/content/drive/MyDrive/DSA2025Spring/SeasonalTrendResults/monthlyInterest.csv', index=False)\n",
        "\n",
        "peakMonth= monthlyInterest.loc[monthlyInterest.groupby('genre')['value'].idxmax()]\n",
        "peakMonth.columns = ['genre', 'peak_month', 'peak_value']\n",
        "peakMonth.to_csv('/content/drive/MyDrive/DSA2025Spring/SeasonalTrendResults/monthlyPeak.csv', index=False)"
      ],
      "metadata": {
        "id": "1PFPShoHI28d"
      },
      "execution_count": null,
      "outputs": []
    },
    {
      "cell_type": "code",
      "source": [
        "#Seasonal ANOVA Test\n",
        "data = pd.read_csv('/content/drive/MyDrive/DSA2025Spring/SeasonalTrendResults/seasonalData.csv')\n",
        "\n",
        "def pvalueTest(pVal):\n",
        "    if pVal < 0.05:\n",
        "      return \"There is a significant difference.\"\n",
        "    else:\n",
        "      return \"No significant difference.\"\n",
        "\n",
        "results = []\n",
        "\n",
        "for genre in data['genre'].unique():\n",
        "    genreData = data[data['genre'] == genre]\n",
        "\n",
        "    winter = genreData[genreData['season'] == 1]['value']\n",
        "    spring = genreData[genreData['season'] == 2]['value']\n",
        "    summer = genreData[genreData['season'] == 3]['value']\n",
        "    autumn = genreData[genreData['season'] == 4]['value']\n",
        "    fStat, pVal = f_oneway(winter, spring, summer, autumn)\n",
        "    result = [genre, fStat, pVal, pvalueTest(pVal)]\n",
        "    results.append(result)\n",
        "\n",
        "anova_results = pd.DataFrame(results, columns=['Genre', 'F Statistic', 'P-Value', 'Seasonal ANOVA Result:'])\n",
        "anova_results.to_csv('/content/drive/MyDrive/DSA2025Spring/SeasonalTrendResults/seasonalANOVA.csv', index=False)"
      ],
      "metadata": {
        "id": "UUMBM6wVE76v"
      },
      "execution_count": null,
      "outputs": []
    },
    {
      "cell_type": "code",
      "source": [
        "#Seasonal Trend - Correlation Heatmap\n",
        "\n",
        "trend = pd.read_csv('/content/drive/MyDrive/DSA2025Spring/SeasonalTrendResults/seasonalTrend.csv')\n",
        "\n",
        "heatMapPivot = trend.pivot(index='season', columns='genre', values='count')\n",
        "\n",
        "plt.figure(figsize=(12, 6))\n",
        "sns.heatmap(heatMapPivot, annot=True, cmap='coolwarm', fmt='.0f')\n",
        "plt.title('Heatmap: Genre by Season')\n",
        "plt.xlabel('Genre')\n",
        "plt.ylabel('Season')\n",
        "plt.tight_layout()\n",
        "plt.savefig('/content/drive/MyDrive/DSA2025Spring/SeasonalTrendResults/heatmapSeasonal.png')\n",
        "plt.show()"
      ],
      "metadata": {
        "id": "3fLP_zsjJawR"
      },
      "execution_count": null,
      "outputs": []
    },
    {
      "cell_type": "code",
      "source": [
        "#Monthly Trend - Correlation Heatmap\n",
        "\n",
        "trendInMonth = pd.read_csv('/content/drive/MyDrive/DSA2025Spring/SeasonalTrendResults/monthlyInterest.csv')\n",
        "heatMapPivot = trendInMonth.pivot(index='month', columns='genre', values='value')\n",
        "\n",
        "plt.figure(figsize=(12, 6))\n",
        "sns.heatmap(heatMapPivot, annot=True, cmap='coolwarm', fmt='.0f')\n",
        "plt.title('Heatmap: Genre by Month')\n",
        "plt.xlabel('Genre')\n",
        "plt.ylabel('Month')\n",
        "plt.tight_layout()\n",
        "plt.savefig('/content/drive/MyDrive/DSA2025Spring/SeasonalTrendResults/heatmapMonthly.png')\n",
        "plt.show()"
      ],
      "metadata": {
        "id": "zvBBuTSUJHim"
      },
      "execution_count": null,
      "outputs": []
    },
    {
      "cell_type": "code",
      "source": [
        "#Line Plot\n",
        "data = pd.read_csv('/content/drive/MyDrive/DSA2025Spring/SeasonalTrendResults/seasonalData.csv')\n",
        "data['date'] = pd.to_datetime(data['date'])\n",
        "\n",
        "plt.figure(figsize=(14, 8))\n",
        "for genre in data['genre'].unique():\n",
        "    genreData = data[data['genre'] == genre]\n",
        "    genreGrouped = genreData.groupby('date')['value'].mean()\n",
        "    plt.plot(genreGrouped.index, genreGrouped.values, label=genre)\n",
        "\n",
        "plt.title('Interest Over Time for Movie Genres (2024)')\n",
        "plt.xlabel('Date')\n",
        "plt.ylabel('Interest')\n",
        "plt.legend(loc='center left', bbox_to_anchor=(1, 0.5))\n",
        "plt.tight_layout()\n",
        "plt.savefig('/content/drive/MyDrive/DSA2025Spring/SeasonalTrendResults/genreTrendLinePlot.png')\n",
        "plt.show()\n"
      ],
      "metadata": {
        "id": "FIBUqVOwKY6-"
      },
      "execution_count": null,
      "outputs": []
    }
  ]
}